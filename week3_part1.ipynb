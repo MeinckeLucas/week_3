{
 "cells": [
  {
   "cell_type": "code",
   "execution_count": 1,
   "id": "threaded-helmet",
   "metadata": {},
   "outputs": [],
   "source": [
    "import pandas as pd\n",
    "import numpy as np\n",
    "import requests\n",
    "from bs4 import BeautifulSoup"
   ]
  },
  {
   "cell_type": "markdown",
   "id": "temporal-death",
   "metadata": {},
   "source": [
    "## First Step\n",
    "Scraping the html page using BeautifulSoup as learned in Module 5 (new version of the IBM Data Science Course)"
   ]
  },
  {
   "cell_type": "code",
   "execution_count": 2,
   "id": "accessory-cambodia",
   "metadata": {},
   "outputs": [],
   "source": [
    "html_data_model = requests.get('https://en.wikipedia.org/wiki/List_of_postal_codes_of_Canada:_M')\n",
    "html_data = html_data_model.text\n",
    "soup = BeautifulSoup(html_data, 'html.parser') #soup object to scrap the page"
   ]
  },
  {
   "cell_type": "markdown",
   "id": "continent-uruguay",
   "metadata": {},
   "source": [
    "## Second Step\n",
    "Look for the 'tbody' object (the one we need is the first one on the wiki page), then find all 'td' (table data) objects inside the tbody.  \n",
    "Get only the text part from 'td', delete \\n character that comes with it and append each text into the list l.  \n",
    "Convert the list into a dataframe 180 x 3"
   ]
  },
  {
   "cell_type": "code",
   "execution_count": 3,
   "id": "increased-private",
   "metadata": {},
   "outputs": [
    {
     "data": {
      "text/plain": [
       "(180, 3)"
      ]
     },
     "execution_count": 3,
     "metadata": {},
     "output_type": "execute_result"
    }
   ],
   "source": [
    "l = []\n",
    "\n",
    "for td in soup.find('tbody').find_all('td'):\n",
    "    data = td.text\n",
    "    data = data.replace('\\n', '')\n",
    "    l.append(data)\n",
    "     \n",
    "rows = int((len(l)/3)) # number of rows is the lengh of the list / number of columns (converted to int)\n",
    "l = np.reshape(l, (rows, 3)) # reshaping the list into matrix\n",
    "\n",
    "df = pd.DataFrame(l, columns=[\"Postal Code\", \"Borough\", \"Neighbourhood\"])\n",
    "df.shape"
   ]
  },
  {
   "cell_type": "markdown",
   "id": "proprietary-single",
   "metadata": {},
   "source": [
    "## Third Step\n",
    "Cleaning the dataframe, removing 'Not assigned' from 'Borough' column and copying the values from 'Borough' column to 'Neighbourhood' column.  \n",
    "It was not necessary to combine the rows in the Neighborhood column as the table already be like this on the wiki page. "
   ]
  },
  {
   "cell_type": "code",
   "execution_count": 4,
   "id": "worst-little",
   "metadata": {},
   "outputs": [
    {
     "data": {
      "text/html": [
       "<div>\n",
       "<style scoped>\n",
       "    .dataframe tbody tr th:only-of-type {\n",
       "        vertical-align: middle;\n",
       "    }\n",
       "\n",
       "    .dataframe tbody tr th {\n",
       "        vertical-align: top;\n",
       "    }\n",
       "\n",
       "    .dataframe thead th {\n",
       "        text-align: right;\n",
       "    }\n",
       "</style>\n",
       "<table border=\"1\" class=\"dataframe\">\n",
       "  <thead>\n",
       "    <tr style=\"text-align: right;\">\n",
       "      <th></th>\n",
       "      <th>Postal Code</th>\n",
       "      <th>Borough</th>\n",
       "      <th>Neighbourhood</th>\n",
       "    </tr>\n",
       "  </thead>\n",
       "  <tbody>\n",
       "    <tr>\n",
       "      <th>0</th>\n",
       "      <td>M3A</td>\n",
       "      <td>North York</td>\n",
       "      <td>Parkwoods</td>\n",
       "    </tr>\n",
       "    <tr>\n",
       "      <th>1</th>\n",
       "      <td>M4A</td>\n",
       "      <td>North York</td>\n",
       "      <td>Victoria Village</td>\n",
       "    </tr>\n",
       "    <tr>\n",
       "      <th>2</th>\n",
       "      <td>M5A</td>\n",
       "      <td>Downtown Toronto</td>\n",
       "      <td>Regent Park, Harbourfront</td>\n",
       "    </tr>\n",
       "    <tr>\n",
       "      <th>3</th>\n",
       "      <td>M6A</td>\n",
       "      <td>North York</td>\n",
       "      <td>Lawrence Manor, Lawrence Heights</td>\n",
       "    </tr>\n",
       "    <tr>\n",
       "      <th>4</th>\n",
       "      <td>M7A</td>\n",
       "      <td>Downtown Toronto</td>\n",
       "      <td>Queen's Park, Ontario Provincial Government</td>\n",
       "    </tr>\n",
       "    <tr>\n",
       "      <th>...</th>\n",
       "      <td>...</td>\n",
       "      <td>...</td>\n",
       "      <td>...</td>\n",
       "    </tr>\n",
       "    <tr>\n",
       "      <th>98</th>\n",
       "      <td>M8X</td>\n",
       "      <td>Etobicoke</td>\n",
       "      <td>The Kingsway, Montgomery Road, Old Mill North</td>\n",
       "    </tr>\n",
       "    <tr>\n",
       "      <th>99</th>\n",
       "      <td>M4Y</td>\n",
       "      <td>Downtown Toronto</td>\n",
       "      <td>Church and Wellesley</td>\n",
       "    </tr>\n",
       "    <tr>\n",
       "      <th>100</th>\n",
       "      <td>M7Y</td>\n",
       "      <td>East Toronto</td>\n",
       "      <td>Business reply mail Processing Centre, South C...</td>\n",
       "    </tr>\n",
       "    <tr>\n",
       "      <th>101</th>\n",
       "      <td>M8Y</td>\n",
       "      <td>Etobicoke</td>\n",
       "      <td>Old Mill South, King's Mill Park, Sunnylea, Hu...</td>\n",
       "    </tr>\n",
       "    <tr>\n",
       "      <th>102</th>\n",
       "      <td>M8Z</td>\n",
       "      <td>Etobicoke</td>\n",
       "      <td>Mimico NW, The Queensway West, South of Bloor,...</td>\n",
       "    </tr>\n",
       "  </tbody>\n",
       "</table>\n",
       "<p>103 rows × 3 columns</p>\n",
       "</div>"
      ],
      "text/plain": [
       "    Postal Code           Borough  \\\n",
       "0           M3A        North York   \n",
       "1           M4A        North York   \n",
       "2           M5A  Downtown Toronto   \n",
       "3           M6A        North York   \n",
       "4           M7A  Downtown Toronto   \n",
       "..          ...               ...   \n",
       "98          M8X         Etobicoke   \n",
       "99          M4Y  Downtown Toronto   \n",
       "100         M7Y      East Toronto   \n",
       "101         M8Y         Etobicoke   \n",
       "102         M8Z         Etobicoke   \n",
       "\n",
       "                                         Neighbourhood  \n",
       "0                                            Parkwoods  \n",
       "1                                     Victoria Village  \n",
       "2                            Regent Park, Harbourfront  \n",
       "3                     Lawrence Manor, Lawrence Heights  \n",
       "4          Queen's Park, Ontario Provincial Government  \n",
       "..                                                 ...  \n",
       "98       The Kingsway, Montgomery Road, Old Mill North  \n",
       "99                                Church and Wellesley  \n",
       "100  Business reply mail Processing Centre, South C...  \n",
       "101  Old Mill South, King's Mill Park, Sunnylea, Hu...  \n",
       "102  Mimico NW, The Queensway West, South of Bloor,...  \n",
       "\n",
       "[103 rows x 3 columns]"
      ]
     },
     "execution_count": 4,
     "metadata": {},
     "output_type": "execute_result"
    }
   ],
   "source": [
    "#change string 'not assigned' in the 'Borough' column for NaN values and then drop them out\n",
    "df['Borough'].replace('Not assigned', np.nan, inplace=True)\n",
    "df.dropna(subset=['Borough'], inplace=True)\n",
    "\n",
    "#change string 'not assigned' in the 'Neighbourhood' column for NaN values and then\n",
    "#fill the rows with values from 'Borough' column  \n",
    "df['Neighbourhood'].replace('Not assigned', np.nan, inplace=True)\n",
    "df['Neighbourhood'] = df['Neighbourhood'].fillna(df['Borough'])\n",
    "\n",
    "#reseting index\n",
    "df.reset_index(drop=True, inplace=True)\n",
    "df"
   ]
  },
  {
   "cell_type": "code",
   "execution_count": 5,
   "id": "weighted-negative",
   "metadata": {},
   "outputs": [],
   "source": [
    "#saving the dataframe as a scv file\n",
    "df.to_csv('L:\\PythonProjects\\week_3\\datasets\\df.csv', index = False)"
   ]
  },
  {
   "cell_type": "code",
   "execution_count": 6,
   "id": "brave-ownership",
   "metadata": {},
   "outputs": [
    {
     "data": {
      "text/plain": [
       "(103, 3)"
      ]
     },
     "execution_count": 6,
     "metadata": {},
     "output_type": "execute_result"
    }
   ],
   "source": [
    "df.shape"
   ]
  }
 ],
 "metadata": {
  "kernelspec": {
   "display_name": "Python 3",
   "language": "python",
   "name": "python3"
  },
  "language_info": {
   "codemirror_mode": {
    "name": "ipython",
    "version": 3
   },
   "file_extension": ".py",
   "mimetype": "text/x-python",
   "name": "python",
   "nbconvert_exporter": "python",
   "pygments_lexer": "ipython3",
   "version": "3.9.1"
  }
 },
 "nbformat": 4,
 "nbformat_minor": 5
}
